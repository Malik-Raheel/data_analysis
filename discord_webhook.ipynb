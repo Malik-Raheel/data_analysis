{
  "nbformat": 4,
  "nbformat_minor": 0,
  "metadata": {
    "colab": {
      "provenance": [],
      "authorship_tag": "ABX9TyOfGxdCOnn3ZR256YU0QRJo",
      "include_colab_link": true
    },
    "kernelspec": {
      "name": "python3",
      "display_name": "Python 3"
    },
    "language_info": {
      "name": "python"
    }
  },
  "cells": [
    {
      "cell_type": "markdown",
      "metadata": {
        "id": "view-in-github",
        "colab_type": "text"
      },
      "source": [
        "<a href=\"https://colab.research.google.com/github/Malik-Raheel/data_analysis/blob/main/discord_webhook.ipynb\" target=\"_parent\"><img src=\"https://colab.research.google.com/assets/colab-badge.svg\" alt=\"Open In Colab\"/></a>"
      ]
    },
    {
      "cell_type": "code",
      "execution_count": 1,
      "metadata": {
        "colab": {
          "base_uri": "https://localhost:8080/"
        },
        "id": "m3aGgeQkTltu",
        "outputId": "5c6db944-867a-45e5-e729-9883943a83f2"
      },
      "outputs": [
        {
          "output_type": "stream",
          "name": "stdout",
          "text": [
            "Requirement already satisfied: requests in /usr/local/lib/python3.11/dist-packages (2.32.3)\n",
            "Requirement already satisfied: charset-normalizer<4,>=2 in /usr/local/lib/python3.11/dist-packages (from requests) (3.4.1)\n",
            "Requirement already satisfied: idna<4,>=2.5 in /usr/local/lib/python3.11/dist-packages (from requests) (3.10)\n",
            "Requirement already satisfied: urllib3<3,>=1.21.1 in /usr/local/lib/python3.11/dist-packages (from requests) (2.3.0)\n",
            "Requirement already satisfied: certifi>=2017.4.17 in /usr/local/lib/python3.11/dist-packages (from requests) (2024.12.14)\n"
          ]
        }
      ],
      "source": [
        "pip install requests\n"
      ]
    },
    {
      "cell_type": "code",
      "source": [
        "import requests\n",
        "\n",
        "def send_discord_message(webhook_url, message):\n",
        "    \"\"\"\n",
        "    Sends a message to a Discord channel using a webhook URL.\n",
        "\n",
        "    Args:\n",
        "        webhook_url (str): The Discord webhook URL.\n",
        "        message (str): The message to send.\n",
        "    \"\"\"\n",
        "    payload = {\"content\": message}\n",
        "    headers = {\"Content-Type\": \"application/json\"}\n",
        "    response = requests.post(webhook_url, json=payload, headers=headers)\n",
        "\n",
        "    if response.status_code == 204:\n",
        "        print(\"Message sent successfully!\")\n",
        "    else:\n",
        "        print(f\"Failed to send message: {response.status_code}, {response.text}\")\n",
        "\n",
        "# Example usage\n",
        "webhook_url = \"https://discord.com/api/webhooks/1331623264031867011/3dTh4xQtlWRV8FXA3bKPiJQDXLhirOx0aoPUG0whSF41S3bXGKjltmUMfhRBm8gnowDz\"  # Replace with your actual webhook URL\n",
        "message = \"🚀 New Signal: BTC/USDT BUY at $20,000. TP: $20,500, SL: $19,800\"\n",
        "send_discord_message(webhook_url, message)\n"
      ],
      "metadata": {
        "colab": {
          "base_uri": "https://localhost:8080/"
        },
        "id": "hD5ZiyQ3TtXp",
        "outputId": "750ad574-5825-42b2-e20a-500fcb74b60a"
      },
      "execution_count": 6,
      "outputs": [
        {
          "output_type": "stream",
          "name": "stdout",
          "text": [
            "Message sent successfully!\n"
          ]
        }
      ]
    }
  ]
}