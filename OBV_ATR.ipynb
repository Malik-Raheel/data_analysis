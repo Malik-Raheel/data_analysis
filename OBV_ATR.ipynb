{
  "nbformat": 4,
  "nbformat_minor": 0,
  "metadata": {
    "colab": {
      "provenance": [],
      "authorship_tag": "ABX9TyOu0bWF8qgFm/iMG2Fjob43",
      "include_colab_link": true
    },
    "kernelspec": {
      "name": "python3",
      "display_name": "Python 3"
    },
    "language_info": {
      "name": "python"
    }
  },
  "cells": [
    {
      "cell_type": "markdown",
      "metadata": {
        "id": "view-in-github",
        "colab_type": "text"
      },
      "source": [
        "<a href=\"https://colab.research.google.com/github/Malik-Raheel/data_analysis/blob/main/OBV_ATR.ipynb\" target=\"_parent\"><img src=\"https://colab.research.google.com/assets/colab-badge.svg\" alt=\"Open In Colab\"/></a>"
      ]
    },
    {
      "cell_type": "markdown",
      "source": [
        "OBV ATR strategy for false breakout, exit strategy, and entries.\n",
        "daily 10-20 signals for trading using mianly ATR OBV for liquidity, momentum, and daily price fluctuations"
      ],
      "metadata": {
        "id": "eyOkBmsX1lmR"
      }
    },
    {
      "cell_type": "code",
      "execution_count": 1,
      "metadata": {
        "colab": {
          "base_uri": "https://localhost:8080/"
        },
        "id": "iAwyCPjR1k65",
        "outputId": "efd143e0-c0d4-45f5-d48d-62b7efa30c22"
      },
      "outputs": [
        {
          "output_type": "stream",
          "name": "stdout",
          "text": [
            "Collecting ccxt\n",
            "  Downloading ccxt-4.4.50-py2.py3-none-any.whl.metadata (117 kB)\n",
            "\u001b[?25l     \u001b[90m━━━━━━━━━━━━━━━━━━━━━━━━━━━━━━━━━━━━━━━━\u001b[0m \u001b[32m0.0/117.7 kB\u001b[0m \u001b[31m?\u001b[0m eta \u001b[36m-:--:--\u001b[0m\r\u001b[2K     \u001b[91m━━━━━━━━━━━━━━━━━━━━━━━━━━━━━━━━━━━━━━\u001b[0m\u001b[90m╺\u001b[0m\u001b[90m━\u001b[0m \u001b[32m112.6/117.7 kB\u001b[0m \u001b[31m8.4 MB/s\u001b[0m eta \u001b[36m0:00:01\u001b[0m\r\u001b[2K     \u001b[90m━━━━━━━━━━━━━━━━━━━━━━━━━━━━━━━━━━━━━━━━\u001b[0m \u001b[32m117.7/117.7 kB\u001b[0m \u001b[31m2.5 MB/s\u001b[0m eta \u001b[36m0:00:00\u001b[0m\n",
            "\u001b[?25hCollecting ta\n",
            "  Downloading ta-0.11.0.tar.gz (25 kB)\n",
            "  Preparing metadata (setup.py) ... \u001b[?25l\u001b[?25hdone\n",
            "Requirement already satisfied: requests in /usr/local/lib/python3.11/dist-packages (2.32.3)\n",
            "Requirement already satisfied: pandas in /usr/local/lib/python3.11/dist-packages (2.2.2)\n",
            "Requirement already satisfied: numpy in /usr/local/lib/python3.11/dist-packages (1.26.4)\n",
            "Requirement already satisfied: setuptools>=60.9.0 in /usr/local/lib/python3.11/dist-packages (from ccxt) (75.1.0)\n",
            "Requirement already satisfied: certifi>=2018.1.18 in /usr/local/lib/python3.11/dist-packages (from ccxt) (2024.12.14)\n",
            "Requirement already satisfied: cryptography>=2.6.1 in /usr/local/lib/python3.11/dist-packages (from ccxt) (43.0.3)\n",
            "Requirement already satisfied: typing-extensions>=4.4.0 in /usr/local/lib/python3.11/dist-packages (from ccxt) (4.12.2)\n",
            "Collecting aiohttp<=3.10.11 (from ccxt)\n",
            "  Downloading aiohttp-3.10.11-cp311-cp311-manylinux_2_17_x86_64.manylinux2014_x86_64.whl.metadata (7.7 kB)\n",
            "Collecting aiodns>=1.1.1 (from ccxt)\n",
            "  Downloading aiodns-3.2.0-py3-none-any.whl.metadata (4.0 kB)\n",
            "Requirement already satisfied: yarl>=1.7.2 in /usr/local/lib/python3.11/dist-packages (from ccxt) (1.18.3)\n",
            "Requirement already satisfied: charset-normalizer<4,>=2 in /usr/local/lib/python3.11/dist-packages (from requests) (3.4.1)\n",
            "Requirement already satisfied: idna<4,>=2.5 in /usr/local/lib/python3.11/dist-packages (from requests) (3.10)\n",
            "Requirement already satisfied: urllib3<3,>=1.21.1 in /usr/local/lib/python3.11/dist-packages (from requests) (2.3.0)\n",
            "Requirement already satisfied: python-dateutil>=2.8.2 in /usr/local/lib/python3.11/dist-packages (from pandas) (2.8.2)\n",
            "Requirement already satisfied: pytz>=2020.1 in /usr/local/lib/python3.11/dist-packages (from pandas) (2024.2)\n",
            "Requirement already satisfied: tzdata>=2022.7 in /usr/local/lib/python3.11/dist-packages (from pandas) (2024.2)\n",
            "Collecting pycares>=4.0.0 (from aiodns>=1.1.1->ccxt)\n",
            "  Downloading pycares-4.5.0-cp311-cp311-manylinux_2_17_x86_64.manylinux2014_x86_64.whl.metadata (4.1 kB)\n",
            "Requirement already satisfied: aiohappyeyeballs>=2.3.0 in /usr/local/lib/python3.11/dist-packages (from aiohttp<=3.10.11->ccxt) (2.4.4)\n",
            "Requirement already satisfied: aiosignal>=1.1.2 in /usr/local/lib/python3.11/dist-packages (from aiohttp<=3.10.11->ccxt) (1.3.2)\n",
            "Requirement already satisfied: attrs>=17.3.0 in /usr/local/lib/python3.11/dist-packages (from aiohttp<=3.10.11->ccxt) (24.3.0)\n",
            "Requirement already satisfied: frozenlist>=1.1.1 in /usr/local/lib/python3.11/dist-packages (from aiohttp<=3.10.11->ccxt) (1.5.0)\n",
            "Requirement already satisfied: multidict<7.0,>=4.5 in /usr/local/lib/python3.11/dist-packages (from aiohttp<=3.10.11->ccxt) (6.1.0)\n",
            "Requirement already satisfied: cffi>=1.12 in /usr/local/lib/python3.11/dist-packages (from cryptography>=2.6.1->ccxt) (1.17.1)\n",
            "Requirement already satisfied: six>=1.5 in /usr/local/lib/python3.11/dist-packages (from python-dateutil>=2.8.2->pandas) (1.17.0)\n",
            "Requirement already satisfied: propcache>=0.2.0 in /usr/local/lib/python3.11/dist-packages (from yarl>=1.7.2->ccxt) (0.2.1)\n",
            "Requirement already satisfied: pycparser in /usr/local/lib/python3.11/dist-packages (from cffi>=1.12->cryptography>=2.6.1->ccxt) (2.22)\n",
            "Downloading ccxt-4.4.50-py2.py3-none-any.whl (5.7 MB)\n",
            "\u001b[2K   \u001b[90m━━━━━━━━━━━━━━━━━━━━━━━━━━━━━━━━━━━━━━━━\u001b[0m \u001b[32m5.7/5.7 MB\u001b[0m \u001b[31m37.9 MB/s\u001b[0m eta \u001b[36m0:00:00\u001b[0m\n",
            "\u001b[?25hDownloading aiodns-3.2.0-py3-none-any.whl (5.7 kB)\n",
            "Downloading aiohttp-3.10.11-cp311-cp311-manylinux_2_17_x86_64.manylinux2014_x86_64.whl (1.3 MB)\n",
            "\u001b[2K   \u001b[90m━━━━━━━━━━━━━━━━━━━━━━━━━━━━━━━━━━━━━━━━\u001b[0m \u001b[32m1.3/1.3 MB\u001b[0m \u001b[31m15.3 MB/s\u001b[0m eta \u001b[36m0:00:00\u001b[0m\n",
            "\u001b[?25hDownloading pycares-4.5.0-cp311-cp311-manylinux_2_17_x86_64.manylinux2014_x86_64.whl (288 kB)\n",
            "\u001b[2K   \u001b[90m━━━━━━━━━━━━━━━━━━━━━━━━━━━━━━━━━━━━━━━━\u001b[0m \u001b[32m288.6/288.6 kB\u001b[0m \u001b[31m20.3 MB/s\u001b[0m eta \u001b[36m0:00:00\u001b[0m\n",
            "\u001b[?25hBuilding wheels for collected packages: ta\n",
            "  Building wheel for ta (setup.py) ... \u001b[?25l\u001b[?25hdone\n",
            "  Created wheel for ta: filename=ta-0.11.0-py3-none-any.whl size=29412 sha256=17980242ca2fabdbde39570984271d3bd2749c3a62befc533ce6b6189f8258b3\n",
            "  Stored in directory: /root/.cache/pip/wheels/a1/d7/29/7781cc5eb9a3659d032d7d15bdd0f49d07d2b24fec29f44bc4\n",
            "Successfully built ta\n",
            "Installing collected packages: pycares, aiohttp, ta, aiodns, ccxt\n",
            "  Attempting uninstall: aiohttp\n",
            "    Found existing installation: aiohttp 3.11.11\n",
            "    Uninstalling aiohttp-3.11.11:\n",
            "      Successfully uninstalled aiohttp-3.11.11\n",
            "Successfully installed aiodns-3.2.0 aiohttp-3.10.11 ccxt-4.4.50 pycares-4.5.0 ta-0.11.0\n"
          ]
        }
      ],
      "source": [
        "pip install ccxt ta requests pandas numpy\n"
      ]
    },
    {
      "cell_type": "code",
      "source": [
        "import pandas as pd\n",
        "import numpy as np\n",
        "import ccxt\n",
        "import requests\n",
        "from ta.volatility import AverageTrueRange\n",
        "from ta.volume import OnBalanceVolumeIndicator\n",
        "\n",
        "# Discord Webhook for Alerts\n",
        "DISCORD_WEBHOOK_URL = \"https://discord.com/api/webhooks/1331623264031867011/3dTh4xQtlWRV8FXA3bKPiJQDXLhirOx0aoPUG0whSF41S3bXGKjltmUMfhRBm8gnowDz\"  # Replace with your webhook URL\n",
        "\n",
        "# Initialize Exchange\n",
        "exchange = ccxt.kucoin()  # Replace with your exchange\n",
        "assets = [\"BTC/USDT\", \"AVAX/USDT\", \"SOL/USDT\", \"SLIM/USDT\", \"XAVA/USDT\",\n",
        "          \"LINK/USDT\", \"CRV/USDT\", \"CFX/USDT\", \"ADA/USDT\", \"XRP/USDT\", \"INJ/USDT\"]\n",
        "\n",
        "# Fetch historical data\n",
        "def fetch_data(symbol, timeframe=\"1h\", limit=500):\n",
        "    \"\"\"Fetch OHLCV data for a symbol.\"\"\"\n",
        "    try:\n",
        "        ohlcv = exchange.fetch_ohlcv(symbol, timeframe, limit=limit)\n",
        "        df = pd.DataFrame(ohlcv, columns=[\"time\", \"open\", \"high\", \"low\", \"close\", \"volume\"])\n",
        "        df[\"time\"] = pd.to_datetime(df[\"time\"], unit=\"ms\")\n",
        "        return df\n",
        "    except Exception as e:\n",
        "        print(f\"Error fetching data for {symbol}: {e}\")\n",
        "        return None\n",
        "\n",
        "# Calculate OBV and ATR\n",
        "def calculate_indicators(df):\n",
        "    \"\"\"Calculate OBV and ATR indicators.\"\"\"\n",
        "    try:\n",
        "        # Calculate OBV\n",
        "        obv_indicator = OnBalanceVolumeIndicator(close=df[\"close\"], volume=df[\"volume\"])\n",
        "        df[\"OBV\"] = obv_indicator.on_balance_volume()\n",
        "\n",
        "        # Calculate ATR\n",
        "        atr_indicator = AverageTrueRange(high=df[\"high\"], low=df[\"low\"], close=df[\"close\"], window=14)\n",
        "        df[\"ATR\"] = atr_indicator.average_true_range()\n",
        "\n",
        "        return df\n",
        "    except Exception as e:\n",
        "        print(f\"Error calculating indicators: {e}\")\n",
        "        return df\n",
        "\n",
        "# Generate signals\n",
        "def generate_signals(symbol, df):\n",
        "    \"\"\"Generate signals based on OBV and ATR.\"\"\"\n",
        "    signals = []\n",
        "\n",
        "    # Ensure sufficient data\n",
        "    if len(df) < 20:\n",
        "        return signals\n",
        "\n",
        "    # Check OBV and ATR trends\n",
        "    obv_diff = df[\"OBV\"].iloc[-1] - df[\"OBV\"].iloc[-20]\n",
        "    atr_diff = df[\"ATR\"].iloc[-1] - df[\"ATR\"].iloc[-20]\n",
        "\n",
        "    # Signal conditions\n",
        "    if obv_diff > 0 and atr_diff > 0:\n",
        "        signals.append({\n",
        "            \"symbol\": symbol,\n",
        "            \"action\": \"Breakout Confirmation\",\n",
        "            \"message\": \"OBV and ATR both increasing, strong breakout likely.\"\n",
        "        })\n",
        "    elif obv_diff > 0 and atr_diff <= 0:\n",
        "        signals.append({\n",
        "            \"symbol\": symbol,\n",
        "            \"action\": \"Caution\",\n",
        "            \"message\": \"OBV increasing but ATR low, breakout may lack momentum.\"\n",
        "        })\n",
        "    elif obv_diff <= 0 and atr_diff > 0:\n",
        "        signals.append({\n",
        "            \"symbol\": symbol,\n",
        "            \"action\": \"Reversal Signal\",\n",
        "            \"message\": \"ATR increasing but OBV declining, potential trend reversal.\"\n",
        "        })\n",
        "\n",
        "    return signals\n",
        "\n",
        "# Send alerts to Discord\n",
        "def send_discord_alert(signal):\n",
        "    \"\"\"Send a signal alert to Discord.\"\"\"\n",
        "    message = f\"🔔 Signal for {signal['symbol']}:\\nAction: {signal['action']}\\nDetails: {signal['message']}\"\n",
        "    payload = {\"content\": message}\n",
        "    headers = {\"Content-Type\": \"application/json\"}\n",
        "    response = requests.post(DISCORD_WEBHOOK_URL, json=payload, headers=headers)\n",
        "    if response.status_code == 204:\n",
        "        print(f\"Signal sent: {signal['symbol']} - {signal['action']}\")\n",
        "    else:\n",
        "        print(f\"Failed to send signal: {response.status_code}, {response.text}\")\n",
        "\n",
        "# Main Execution\n",
        "def main():\n",
        "    all_signals = []\n",
        "    for asset in assets:\n",
        "        data = fetch_data(asset, timeframe=\"1h\")\n",
        "        if data is not None:\n",
        "            data = calculate_indicators(data)\n",
        "            signals = generate_signals(asset, data)\n",
        "            all_signals.extend(signals)\n",
        "\n",
        "            # Send signals to Discord\n",
        "            for signal in signals:\n",
        "                send_discord_alert(signal)\n",
        "\n",
        "    # Print all signals\n",
        "    print(f\"Total Signals Generated: {len(all_signals)}\")\n",
        "    for signal in all_signals:\n",
        "        print(f\"{signal['symbol']} - {signal['action']}: {signal['message']}\")\n",
        "\n",
        "# Run strategy every day (example using Colab scheduler or loop)\n",
        "if __name__ == \"__main__\":\n",
        "    main()\n"
      ],
      "metadata": {
        "colab": {
          "base_uri": "https://localhost:8080/"
        },
        "id": "vHgHti3z10O6",
        "outputId": "24be3997-8ca6-4f18-99e7-a2bc79d26c3f"
      },
      "execution_count": 2,
      "outputs": [
        {
          "output_type": "stream",
          "name": "stdout",
          "text": [
            "Signal sent: SOL/USDT - Caution\n",
            "Signal sent: XAVA/USDT - Caution\n",
            "Signal sent: CRV/USDT - Caution\n",
            "Signal sent: CFX/USDT - Caution\n",
            "Signal sent: INJ/USDT - Caution\n",
            "Total Signals Generated: 5\n",
            "SOL/USDT - Caution: OBV increasing but ATR low, breakout may lack momentum.\n",
            "XAVA/USDT - Caution: OBV increasing but ATR low, breakout may lack momentum.\n",
            "CRV/USDT - Caution: OBV increasing but ATR low, breakout may lack momentum.\n",
            "CFX/USDT - Caution: OBV increasing but ATR low, breakout may lack momentum.\n",
            "INJ/USDT - Caution: OBV increasing but ATR low, breakout may lack momentum.\n"
          ]
        }
      ]
    }
  ]
}