{
  "nbformat": 4,
  "nbformat_minor": 0,
  "metadata": {
    "colab": {
      "provenance": [],
      "authorship_tag": "ABX9TyMGxYiVJ0EISX4FqFuWDExt",
      "include_colab_link": true
    },
    "kernelspec": {
      "name": "python3",
      "display_name": "Python 3"
    },
    "language_info": {
      "name": "python"
    }
  },
  "cells": [
    {
      "cell_type": "markdown",
      "metadata": {
        "id": "view-in-github",
        "colab_type": "text"
      },
      "source": [
        "<a href=\"https://colab.research.google.com/github/Malik-Raheel/data_analysis/blob/main/Low_Freq_Tradign.ipynb\" target=\"_parent\"><img src=\"https://colab.research.google.com/assets/colab-badge.svg\" alt=\"Open In Colab\"/></a>"
      ]
    },
    {
      "cell_type": "code",
      "execution_count": null,
      "metadata": {
        "id": "QczLf9VO2S8O"
      },
      "outputs": [],
      "source": [
        "# Install necessary libraries\n",
        "!pip install ccxt pandas numpy"
      ]
    },
    {
      "cell_type": "code",
      "source": [
        "\n",
        "\n",
        "import ccxt\n",
        "import pandas as pd\n",
        "import numpy as np\n",
        "from datetime import datetime\n",
        "\n",
        "# Initialize the CCXT exchange object (kucoin in this case)\n",
        "exchange = ccxt.kucoin({\n",
        "    'rateLimit': 1200,\n",
        "    'enableRateLimit': True,\n",
        "})\n",
        "\n",
        "# Function to fetch OHLCV data\n",
        "def fetch_data(symbol, timeframe='15m', limit=200):\n",
        "    \"\"\"Fetch historical OHLCV data for a given symbol and timeframe.\"\"\"\n",
        "    ohlcv = exchange.fetch_ohlcv(symbol, timeframe, limit=limit)\n",
        "    df = pd.DataFrame(ohlcv, columns=['timestamp', 'open', 'high', 'low', 'close', 'volume'])\n",
        "    df['timestamp'] = pd.to_datetime(df['timestamp'], unit='ms')\n",
        "    return df\n",
        "\n",
        "# Function to calculate RSI\n",
        "def calculate_rsi(df, window=14):\n",
        "    \"\"\"Calculate Relative Strength Index (RSI).\"\"\"\n",
        "    delta = df['close'].diff()\n",
        "    gain = np.where(delta > 0, delta, 0)\n",
        "    loss = np.where(delta < 0, -delta, 0)\n",
        "    avg_gain = pd.Series(gain).rolling(window=window).mean()\n",
        "    avg_loss = pd.Series(loss).rolling(window=window).mean()\n",
        "    rs = avg_gain / avg_loss\n",
        "    df['RSI'] = 100 - (100 / (1 + rs))\n",
        "    return df\n",
        "\n",
        "# Function to calculate EMA\n",
        "def calculate_ema(df, window):\n",
        "    \"\"\"Calculate Exponential Moving Average (EMA).\"\"\"\n",
        "    df[f'EMA_{window}'] = df['close'].ewm(span=window, adjust=False).mean()\n",
        "    return df\n",
        "\n",
        "# Function to find trading signals\n",
        "def find_signals(df):\n",
        "    \"\"\"Find buy/sell signals based on the strategy.\"\"\"\n",
        "    signals = []\n",
        "    for i in range(len(df)):\n",
        "        # Conditions for a buy signal\n",
        "        if (\n",
        "            df['RSI'].iloc[i] < 35 and  # RSI below 35 (oversold)\n",
        "            df['EMA_15'].iloc[i] > df['EMA_50'].iloc[i] and  # EMA 15 > EMA 50\n",
        "            df['volume'].iloc[i] > 1.3 * df['volume'].rolling(window=20).mean().iloc[i]  # Volume spike\n",
        "        ):\n",
        "            signals.append(\"BUY\")\n",
        "        else:\n",
        "            signals.append(\"HOLD\")\n",
        "    df['Signal'] = signals\n",
        "    return df\n",
        "\n",
        "# Main function\n",
        "def main():\n",
        "    # List of assets to trade\n",
        "    assets = ['BTC/USDT', 'ETH/USDT', 'AVAX/USDT', 'XRP/USDT', 'ADA/USDT',\n",
        "              'CRV/USDT', 'SOL/USDT', 'LINK/USDT', 'DOGE/USDT', 'INJ/USDT']\n",
        "\n",
        "    # Timeframe for signals\n",
        "    timeframe = '15m'\n",
        "\n",
        "    # Loop through each asset\n",
        "    for asset in assets:\n",
        "        print(f\"\\nFetching data for {asset}...\")\n",
        "        df = fetch_data(asset, timeframe)\n",
        "\n",
        "        # Add technical indicators\n",
        "        df = calculate_rsi(df)\n",
        "        df = calculate_ema(df, window=15)\n",
        "        df = calculate_ema(df, window=50)\n",
        "\n",
        "        # Find trading signals\n",
        "        df = find_signals(df)\n",
        "\n",
        "        # Filter for recent BUY signals\n",
        "        recent_signals = df[df['Signal'] == 'BUY'][['timestamp', 'close', 'RSI', 'EMA_15', 'EMA_50', 'volume', 'Signal']].tail(1)\n",
        "\n",
        "        if not recent_signals.empty:\n",
        "            print(f\"Recent Signal for {asset}:\")\n",
        "            print(recent_signals)\n",
        "        else:\n",
        "            print(f\"No recent BUY signals for {asset}.\")\n",
        "\n",
        "if __name__ == \"__main__\":\n",
        "    main()\n"
      ],
      "metadata": {
        "id": "kGccVAe82YGH"
      },
      "execution_count": null,
      "outputs": []
    }
  ]
}